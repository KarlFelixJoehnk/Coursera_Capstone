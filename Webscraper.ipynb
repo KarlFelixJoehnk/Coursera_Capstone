{
    "nbformat_minor": 1, 
    "cells": [
        {
            "source": "# Webscraper to get Canadian postal code data ", 
            "cell_type": "markdown", 
            "metadata": {
                "collapsed": true
            }
        }, 
        {
            "execution_count": 1, 
            "cell_type": "code", 
            "metadata": {}, 
            "outputs": [], 
            "source": "import pandas as pd"
        }, 
        {
            "source": "There exist multiple ways to obtain data from the web when API's are not directly available.  \nI will use pandas awesome method read_html to get the table I want.\n\nFirst, I read all tables available within the Wikipedia link and chose the first one (pandas provides a list of dataframes), headers included.  \n", 
            "cell_type": "markdown", 
            "metadata": {}
        }, 
        {
            "execution_count": 2, 
            "cell_type": "code", 
            "metadata": {}, 
            "outputs": [
                {
                    "execution_count": 2, 
                    "metadata": {}, 
                    "data": {
                        "text/plain": "Borough\nCentral Toronto     17\nDowntown Toronto    37\nEast Toronto         7\nEast York            6\nEtobicoke           45\nMississauga          1\nNorth York          38\nNot assigned        77\nQueen's Park         1\nScarborough         37\nWest Toronto        13\nYork                 9\nName: PostalCode, dtype: int64"
                    }, 
                    "output_type": "execute_result"
                }
            ], 
            "source": "dfs = pd.read_html(\"https://en.wikipedia.org/wiki/List_of_postal_codes_of_Canada:_M\", header=0)\n#I find the first table by printing \n#for df in dfs:\n#    print(df)\ndf = dfs[0]\ndf.rename(columns={'Postcode': 'PostalCode', 'Neighbourhood':'Neighborhood'}, inplace=True)\n#Count how many postalcodes exist per Borough\ndf.groupby('Borough').count()['PostalCode']"
        }, 
        {
            "source": "77 entries are not assigned and hence will be dropped", 
            "cell_type": "markdown", 
            "metadata": {}
        }, 
        {
            "execution_count": 3, 
            "cell_type": "code", 
            "metadata": {}, 
            "outputs": [
                {
                    "execution_count": 3, 
                    "metadata": {}, 
                    "data": {
                        "text/html": "<div>\n<style scoped>\n    .dataframe tbody tr th:only-of-type {\n        vertical-align: middle;\n    }\n\n    .dataframe tbody tr th {\n        vertical-align: top;\n    }\n\n    .dataframe thead th {\n        text-align: right;\n    }\n</style>\n<table border=\"1\" class=\"dataframe\">\n  <thead>\n    <tr style=\"text-align: right;\">\n      <th></th>\n      <th>PostalCode</th>\n      <th>Borough</th>\n      <th>Neighborhood</th>\n    </tr>\n  </thead>\n  <tbody>\n    <tr>\n      <th>2</th>\n      <td>M3A</td>\n      <td>North York</td>\n      <td>Parkwoods</td>\n    </tr>\n    <tr>\n      <th>3</th>\n      <td>M4A</td>\n      <td>North York</td>\n      <td>Victoria Village</td>\n    </tr>\n    <tr>\n      <th>4</th>\n      <td>M5A</td>\n      <td>Downtown Toronto</td>\n      <td>Harbourfront</td>\n    </tr>\n    <tr>\n      <th>5</th>\n      <td>M5A</td>\n      <td>Downtown Toronto</td>\n      <td>Regent Park</td>\n    </tr>\n    <tr>\n      <th>6</th>\n      <td>M6A</td>\n      <td>North York</td>\n      <td>Lawrence Heights</td>\n    </tr>\n  </tbody>\n</table>\n</div>", 
                        "text/plain": "  PostalCode           Borough      Neighborhood\n2        M3A        North York         Parkwoods\n3        M4A        North York  Victoria Village\n4        M5A  Downtown Toronto      Harbourfront\n5        M5A  Downtown Toronto       Regent Park\n6        M6A        North York  Lawrence Heights"
                    }, 
                    "output_type": "execute_result"
                }
            ], 
            "source": "df = df[df['Borough']!='Not assigned']\ndf.head()"
        }, 
        {
            "source": "Now Postalcodes that contain multiple neighborhoods will be summarized and all neighborhoods are concatinated with comma seperation", 
            "cell_type": "markdown", 
            "metadata": {}
        }, 
        {
            "execution_count": 4, 
            "cell_type": "code", 
            "metadata": {}, 
            "outputs": [], 
            "source": "df_new = df.groupby('PostalCode')['Neighborhood'].agg([('Neighborhood', ', '.join)]).reset_index()"
        }, 
        {
            "source": "This code below would do the same job, I played around with it but found the above one easier to read", 
            "cell_type": "markdown", 
            "metadata": {}
        }, 
        {
            "execution_count": 5, 
            "cell_type": "code", 
            "metadata": {}, 
            "outputs": [], 
            "source": "#Alternative code with same results\n#df_new = (df['Neighborhood'].str.split(', ')\n#                    .groupby(df['PostalCode'])\n#                    .agg(lambda x: ', '.join(set(y for z in x for y in z)))\n#                    .reset_index())\n#df_new.shape"
        }, 
        {
            "source": "Since the previous operation dropped the Borough column it will be merged  from the previous data frame", 
            "cell_type": "markdown", 
            "metadata": {}
        }, 
        {
            "execution_count": 6, 
            "cell_type": "code", 
            "metadata": {}, 
            "outputs": [], 
            "source": "df_new = pd.merge(df_new,df[['PostalCode','Borough']],on='PostalCode', how='left')\ndf_new = df_new.drop_duplicates()"
        }, 
        {
            "source": "M7A contains neighborhood with value 'not assigned'. It will be replaced by its Borough", 
            "cell_type": "markdown", 
            "metadata": {}
        }, 
        {
            "execution_count": 7, 
            "cell_type": "code", 
            "metadata": {}, 
            "outputs": [
                {
                    "execution_count": 7, 
                    "metadata": {}, 
                    "data": {
                        "text/html": "<div>\n<style scoped>\n    .dataframe tbody tr th:only-of-type {\n        vertical-align: middle;\n    }\n\n    .dataframe tbody tr th {\n        vertical-align: top;\n    }\n\n    .dataframe thead th {\n        text-align: right;\n    }\n</style>\n<table border=\"1\" class=\"dataframe\">\n  <thead>\n    <tr style=\"text-align: right;\">\n      <th></th>\n      <th>PostalCode</th>\n      <th>Neighborhood</th>\n      <th>Borough</th>\n    </tr>\n  </thead>\n  <tbody>\n    <tr>\n      <th>159</th>\n      <td>M7A</td>\n      <td>Not assigned</td>\n      <td>Queen's Park</td>\n    </tr>\n  </tbody>\n</table>\n</div>", 
                        "text/plain": "    PostalCode  Neighborhood       Borough\n159        M7A  Not assigned  Queen's Park"
                    }, 
                    "output_type": "execute_result"
                }
            ], 
            "source": "df_new.loc[df_new['Neighborhood'] == 'Not assigned']"
        }, 
        {
            "source": "Last, replace  all Neighborhoods that are not assigned with their respective borough", 
            "cell_type": "markdown", 
            "metadata": {}
        }, 
        {
            "execution_count": 8, 
            "cell_type": "code", 
            "metadata": {}, 
            "outputs": [], 
            "source": "df_new['Neighborhood'].where(df_new['Neighborhood']!='Not assigned', other=df_new['Borough'], inplace=True)\n#df_new['Neighborhood'] = df_new['Borough'].where(df_new['Neighborhood'] == 'Not assigned')\n#if error , ''"
        }, 
        {
            "execution_count": 9, 
            "cell_type": "code", 
            "metadata": {}, 
            "outputs": [
                {
                    "execution_count": 9, 
                    "metadata": {}, 
                    "data": {
                        "text/html": "<div>\n<style scoped>\n    .dataframe tbody tr th:only-of-type {\n        vertical-align: middle;\n    }\n\n    .dataframe tbody tr th {\n        vertical-align: top;\n    }\n\n    .dataframe thead th {\n        text-align: right;\n    }\n</style>\n<table border=\"1\" class=\"dataframe\">\n  <thead>\n    <tr style=\"text-align: right;\">\n      <th></th>\n      <th>PostalCode</th>\n      <th>Neighborhood</th>\n      <th>Borough</th>\n    </tr>\n  </thead>\n  <tbody>\n    <tr>\n      <th>159</th>\n      <td>M7A</td>\n      <td>Queen's Park</td>\n      <td>Queen's Park</td>\n    </tr>\n  </tbody>\n</table>\n</div>", 
                        "text/plain": "    PostalCode  Neighborhood       Borough\n159        M7A  Queen's Park  Queen's Park"
                    }, 
                    "output_type": "execute_result"
                }
            ], 
            "source": "df_new.loc[df_new['Neighborhood'] == \"Queen's Park\"]"
        }, 
        {
            "source": "Finally, lets look at the shape and the fist 10 rows of the  dataframe", 
            "cell_type": "markdown", 
            "metadata": {}
        }, 
        {
            "execution_count": 10, 
            "cell_type": "code", 
            "metadata": {}, 
            "outputs": [
                {
                    "execution_count": 10, 
                    "metadata": {}, 
                    "data": {
                        "text/html": "<div>\n<style scoped>\n    .dataframe tbody tr th:only-of-type {\n        vertical-align: middle;\n    }\n\n    .dataframe tbody tr th {\n        vertical-align: top;\n    }\n\n    .dataframe thead th {\n        text-align: right;\n    }\n</style>\n<table border=\"1\" class=\"dataframe\">\n  <thead>\n    <tr style=\"text-align: right;\">\n      <th></th>\n      <th>PostalCode</th>\n      <th>Neighborhood</th>\n      <th>Borough</th>\n    </tr>\n  </thead>\n  <tbody>\n    <tr>\n      <th>0</th>\n      <td>M1B</td>\n      <td>Rouge, Malvern</td>\n      <td>Scarborough</td>\n    </tr>\n    <tr>\n      <th>2</th>\n      <td>M1C</td>\n      <td>Highland Creek, Rouge Hill, Port Union</td>\n      <td>Scarborough</td>\n    </tr>\n    <tr>\n      <th>5</th>\n      <td>M1E</td>\n      <td>Guildwood, Morningside, West Hill</td>\n      <td>Scarborough</td>\n    </tr>\n    <tr>\n      <th>8</th>\n      <td>M1G</td>\n      <td>Woburn</td>\n      <td>Scarborough</td>\n    </tr>\n    <tr>\n      <th>9</th>\n      <td>M1H</td>\n      <td>Cedarbrae</td>\n      <td>Scarborough</td>\n    </tr>\n    <tr>\n      <th>10</th>\n      <td>M1J</td>\n      <td>Scarborough Village</td>\n      <td>Scarborough</td>\n    </tr>\n    <tr>\n      <th>11</th>\n      <td>M1K</td>\n      <td>East Birchmount Park, Ionview, Kennedy Park</td>\n      <td>Scarborough</td>\n    </tr>\n    <tr>\n      <th>14</th>\n      <td>M1L</td>\n      <td>Clairlea, Golden Mile, Oakridge</td>\n      <td>Scarborough</td>\n    </tr>\n    <tr>\n      <th>17</th>\n      <td>M1M</td>\n      <td>Cliffcrest, Cliffside, Scarborough Village West</td>\n      <td>Scarborough</td>\n    </tr>\n    <tr>\n      <th>20</th>\n      <td>M1N</td>\n      <td>Birch Cliff, Cliffside West</td>\n      <td>Scarborough</td>\n    </tr>\n  </tbody>\n</table>\n</div>", 
                        "text/plain": "   PostalCode                                     Neighborhood      Borough\n0         M1B                                   Rouge, Malvern  Scarborough\n2         M1C           Highland Creek, Rouge Hill, Port Union  Scarborough\n5         M1E                Guildwood, Morningside, West Hill  Scarborough\n8         M1G                                           Woburn  Scarborough\n9         M1H                                        Cedarbrae  Scarborough\n10        M1J                              Scarborough Village  Scarborough\n11        M1K      East Birchmount Park, Ionview, Kennedy Park  Scarborough\n14        M1L                  Clairlea, Golden Mile, Oakridge  Scarborough\n17        M1M  Cliffcrest, Cliffside, Scarborough Village West  Scarborough\n20        M1N                      Birch Cliff, Cliffside West  Scarborough"
                    }, 
                    "output_type": "execute_result"
                }
            ], 
            "source": "df_new.head(10)"
        }, 
        {
            "execution_count": 11, 
            "cell_type": "code", 
            "metadata": {}, 
            "outputs": [
                {
                    "execution_count": 11, 
                    "metadata": {}, 
                    "data": {
                        "text/plain": "(103, 3)"
                    }, 
                    "output_type": "execute_result"
                }
            ], 
            "source": "df_new.shape"
        }, 
        {
            "execution_count": null, 
            "cell_type": "code", 
            "metadata": {}, 
            "outputs": [], 
            "source": ""
        }
    ], 
    "metadata": {
        "kernelspec": {
            "display_name": "Python 3.5", 
            "name": "python3", 
            "language": "python"
        }, 
        "language_info": {
            "mimetype": "text/x-python", 
            "nbconvert_exporter": "python", 
            "version": "3.5.5", 
            "name": "python", 
            "file_extension": ".py", 
            "pygments_lexer": "ipython3", 
            "codemirror_mode": {
                "version": 3, 
                "name": "ipython"
            }
        }
    }, 
    "nbformat": 4
}